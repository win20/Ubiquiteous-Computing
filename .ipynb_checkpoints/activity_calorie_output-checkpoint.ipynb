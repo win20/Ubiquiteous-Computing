{
 "cells": [
  {
   "cell_type": "code",
   "execution_count": 87,
   "id": "8e50d382",
   "metadata": {},
   "outputs": [],
   "source": [
    "import tensorflow as tf\n",
    "import numpy as np\n",
    "import pandas as pd \n",
    "import os\n",
    "import glob\n",
    "from sklearn.preprocessing import LabelEncoder, OneHotEncoder"
   ]
  },
  {
   "cell_type": "code",
   "execution_count": 12,
   "id": "0a7ccb44",
   "metadata": {},
   "outputs": [
    {
     "data": {
      "text/plain": [
       "<Figure size 432x288 with 0 Axes>"
      ]
     },
     "metadata": {},
     "output_type": "display_data"
    }
   ],
   "source": [
    "%run -i calculate_bpm.py"
   ]
  },
  {
   "cell_type": "code",
   "execution_count": 13,
   "id": "b480a212",
   "metadata": {},
   "outputs": [
    {
     "name": "stdout",
     "output_type": "stream",
     "text": [
      "Extracting frames...\n",
      "Done: extracted 631 frames; Took 19.61 seconds\n",
      "Getting images...\n",
      "Done\n",
      "Finished Calculating BPM\n"
     ]
    }
   ],
   "source": [
    "bpm = calculate_bpm('finger-tip-2.mp4')"
   ]
  },
  {
   "cell_type": "code",
   "execution_count": 111,
   "id": "00f8722d",
   "metadata": {},
   "outputs": [
    {
     "name": "stdout",
     "output_type": "stream",
     "text": [
      "Model: \"sequential_1\"\n",
      "_________________________________________________________________\n",
      "Layer (type)                 Output Shape              Param #   \n",
      "=================================================================\n",
      "dense_2 (Dense)              (None, 8)                 32        \n",
      "_________________________________________________________________\n",
      "dense_3 (Dense)              (None, 10)                90        \n",
      "_________________________________________________________________\n",
      "dense_4 (Dense)              (None, 10)                110       \n",
      "_________________________________________________________________\n",
      "dense_5 (Dense)              (None, 5)                 55        \n",
      "=================================================================\n",
      "Total params: 287\n",
      "Trainable params: 287\n",
      "Non-trainable params: 0\n",
      "_________________________________________________________________\n"
     ]
    }
   ],
   "source": [
    "model = tf.keras.models.load_model('ml_model')\n",
    "model.summary()"
   ]
  },
  {
   "cell_type": "code",
   "execution_count": 131,
   "id": "8754e401",
   "metadata": {},
   "outputs": [],
   "source": [
    "def get_input_data(accel_path, gyro_path):\n",
    "    files = [accel_path, gyro_path]\n",
    "    data = []\n",
    "    for f in files:\n",
    "        csv = pd.read_csv(f, header = None)\n",
    "        for item in csv.values[50:-100]:\n",
    "            data.append(item)\n",
    "            \n",
    "    data = np.array(data)\n",
    "    labels = pd.read_csv('data/sensors/labels.txt', header = None).values\n",
    "\n",
    "    return data, labels"
   ]
  },
  {
   "cell_type": "code",
   "execution_count": 159,
   "id": "291b04bc",
   "metadata": {},
   "outputs": [],
   "source": [
    "accel_path = 'data/sensors/23,04,22,09,12,22,Stair climber,accelerometer.txt'\n",
    "gyro_path = 'data/sensors/23,04,22,09,12,22,Stair climber,gyroscope.txt'\n",
    "\n",
    "data, labels = get_input_data(accel_path, gyro_path)"
   ]
  },
  {
   "cell_type": "code",
   "execution_count": 182,
   "id": "0939236a",
   "metadata": {},
   "outputs": [],
   "source": [
    "def make_prediction(data, labels):\n",
    "    print('Activity recognition started...')\n",
    "    # import model and make predictions on whole data\n",
    "    probability_model = tf.keras.Sequential([model, tf.keras.layers.Softmax()])\n",
    "    new_predictions = probability_model.predict(data)\n",
    "    \n",
    "    # get labels from one hot encoding\n",
    "    ohe = OneHotEncoder(sparse=False)\n",
    "    y_ohe = ohe.fit_transform(labels.reshape(-1, 1))\n",
    "    \n",
    "    # inverse the OHE back to labels and make a list from it\n",
    "    inv = ohe.inverse_transform(y_ohe).ravel()\n",
    "    activities = np.unique(inv)\n",
    "\n",
    "    # \n",
    "    prediction_indices = []\n",
    "    for i in range(len(new_predictions) - 100):\n",
    "        prediction_indices.append(np.argmax(new_predictions[i]))\n",
    "\n",
    "    prediction_out = activities[max(prediction_indices)]\n",
    "    \n",
    "    print('Activity: ' + prediction_out)\n",
    "    return prediction_out"
   ]
  },
  {
   "cell_type": "code",
   "execution_count": 183,
   "id": "c8e870b7",
   "metadata": {},
   "outputs": [
    {
     "name": "stdout",
     "output_type": "stream",
     "text": [
      "Activity recognition started...\n",
      "Activity: Stair climber\n"
     ]
    }
   ],
   "source": [
    "pred = make_prediction(data, labels)"
   ]
  },
  {
   "cell_type": "code",
   "execution_count": 185,
   "id": "10994764",
   "metadata": {},
   "outputs": [
    {
     "data": {
      "text/plain": [
       "0.30664435946462576"
      ]
     },
     "execution_count": 185,
     "metadata": {},
     "output_type": "execute_result"
    }
   ],
   "source": [
    "gender = 'man'\n",
    "duration = 1\n",
    "bpm = 65\n",
    "weight = 55\n",
    "age = 22\n",
    "\n",
    "if gender == 'man':\n",
    "    calories_burned = duration * (0.6309 * bpm + 0.1988 * weight + 0.2017 * age - 55.0969) / 4.184\n",
    "\n",
    "calories_burned"
   ]
  },
  {
   "cell_type": "code",
   "execution_count": null,
   "id": "8c1d7af6",
   "metadata": {},
   "outputs": [],
   "source": []
  }
 ],
 "metadata": {
  "kernelspec": {
   "display_name": "Python 3 (ipykernel)",
   "language": "python",
   "name": "python3"
  },
  "language_info": {
   "codemirror_mode": {
    "name": "ipython",
    "version": 3
   },
   "file_extension": ".py",
   "mimetype": "text/x-python",
   "name": "python",
   "nbconvert_exporter": "python",
   "pygments_lexer": "ipython3",
   "version": "3.9.0"
  }
 },
 "nbformat": 4,
 "nbformat_minor": 5
}
