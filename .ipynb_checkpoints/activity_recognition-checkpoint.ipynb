{
 "cells": [
  {
   "cell_type": "code",
   "execution_count": 1,
   "id": "14c22ab1",
   "metadata": {},
   "outputs": [],
   "source": [
    "# Data visualization\n",
    "import matplotlib.pyplot as plt\n",
    "import numpy as np\n",
    "import pandas as pd \n",
    "import os\n",
    "import glob\n",
    "# Keras\n",
    "from keras.models import Sequential\n",
    "from keras.layers import Dense\n",
    "from tensorflow.keras.optimizers import Adam\n",
    "import keras.backend as K\n",
    "import tensorflow as tf\n",
    "# Train-Test\n",
    "from sklearn.model_selection import train_test_split\n",
    "# Scaling data\n",
    "from sklearn.preprocessing import StandardScaler\n",
    "# Classification Report\n",
    "from sklearn.metrics import classification_report\n",
    "from keras.utils.np_utils import to_categorical\n",
    "from sklearn.preprocessing import LabelEncoder, OneHotEncoder"
   ]
  },
  {
   "cell_type": "code",
   "execution_count": 28,
   "id": "acea8f84",
   "metadata": {},
   "outputs": [],
   "source": [
    "files = glob.glob('data/sensors/*.txt')\n",
    "feature_files = files[:-1]\n",
    "data = []\n",
    "\n",
    "for i, f in enumerate(feature_files):\n",
    "    label = f.split(',')[6]\n",
    "    csv = pd.read_csv(f, header=None)\n",
    "    for item in csv.values[50:-50]:\n",
    "        item = np.append(item, label)\n",
    "        data.append(item)\n",
    "        \n"
   ]
  },
  {
   "cell_type": "code",
   "execution_count": 29,
   "id": "81ce3786",
   "metadata": {},
   "outputs": [],
   "source": [
    "data = np.array(data)"
   ]
  },
  {
   "cell_type": "code",
   "execution_count": 30,
   "id": "5e0bbc00",
   "metadata": {},
   "outputs": [],
   "source": [
    "X = data[:,0:3].astype(float)\n",
    "y = data[:,3]"
   ]
  },
  {
   "cell_type": "code",
   "execution_count": 5,
   "id": "0be2aa4d",
   "metadata": {},
   "outputs": [
    {
     "data": {
      "text/plain": [
       "array([0., 0., 0., 1., 0.], dtype=float32)"
      ]
     },
     "execution_count": 5,
     "metadata": {},
     "output_type": "execute_result"
    }
   ],
   "source": [
    "encoder = LabelEncoder()\n",
    "encoder.fit(y)\n",
    "encoded_y = encoder.transform(y)\n",
    "\n",
    "y_cat = to_categorical(encoded_y)\n",
    "y_cat[0]\n"
   ]
  },
  {
   "cell_type": "code",
   "execution_count": 31,
   "id": "4779e9d6",
   "metadata": {},
   "outputs": [
    {
     "data": {
      "text/plain": [
       "array([0., 0., 0., 0., 1.])"
      ]
     },
     "execution_count": 31,
     "metadata": {},
     "output_type": "execute_result"
    }
   ],
   "source": [
    "ohe = OneHotEncoder(sparse=False)\n",
    "y_ohe = ohe.fit_transform(y.reshape(-1, 1))\n",
    "y_ohe[75415]"
   ]
  },
  {
   "cell_type": "code",
   "execution_count": 32,
   "id": "0f48086b",
   "metadata": {},
   "outputs": [
    {
     "data": {
      "text/plain": [
       "'Stair climber'"
      ]
     },
     "execution_count": 32,
     "metadata": {},
     "output_type": "execute_result"
    }
   ],
   "source": [
    "y[75415]"
   ]
  },
  {
   "cell_type": "code",
   "execution_count": 33,
   "id": "e64b8045",
   "metadata": {},
   "outputs": [],
   "source": [
    "x_train, x_test, y_train, y_test = train_test_split(X, y_ohe, test_size=0.3)"
   ]
  },
  {
   "cell_type": "code",
   "execution_count": 35,
   "id": "f7e489fd",
   "metadata": {},
   "outputs": [],
   "source": [
    "model = Sequential()\n",
    "model.add(Dense(8, input_dim=3, activation='relu'))\n",
    "model.add(Dense(10, activation='relu'))\n",
    "model.add(Dense(10, activation='relu'))\n",
    "model.add(Dense(5, activation='softmax'))\n",
    "\n",
    "# compile model\n",
    "model.compile(loss='categorical_crossentropy', optimizer='adam', metrics=['accuracy'])"
   ]
  },
  {
   "cell_type": "code",
   "execution_count": 36,
   "id": "8bd901dd",
   "metadata": {},
   "outputs": [
    {
     "name": "stdout",
     "output_type": "stream",
     "text": [
      "Epoch 1/50\n",
      "10404/10404 - 7s - loss: 0.3704 - accuracy: 0.8856\n",
      "Epoch 2/50\n",
      "10404/10404 - 7s - loss: 0.3071 - accuracy: 0.8931\n",
      "Epoch 3/50\n",
      "10404/10404 - 7s - loss: 0.2951 - accuracy: 0.8989\n",
      "Epoch 4/50\n",
      "10404/10404 - 7s - loss: 0.2898 - accuracy: 0.9012\n",
      "Epoch 5/50\n",
      "10404/10404 - 7s - loss: 0.2870 - accuracy: 0.9022\n",
      "Epoch 6/50\n",
      "10404/10404 - 7s - loss: 0.2848 - accuracy: 0.9027\n",
      "Epoch 7/50\n",
      "10404/10404 - 7s - loss: 0.2789 - accuracy: 0.9035\n",
      "Epoch 8/50\n",
      "10404/10404 - 7s - loss: 0.2736 - accuracy: 0.9044\n",
      "Epoch 9/50\n",
      "10404/10404 - 7s - loss: 0.2713 - accuracy: 0.9045\n",
      "Epoch 10/50\n",
      "10404/10404 - 7s - loss: 0.2682 - accuracy: 0.9052\n",
      "Epoch 11/50\n",
      "10404/10404 - 7s - loss: 0.2670 - accuracy: 0.9045\n",
      "Epoch 12/50\n",
      "10404/10404 - 7s - loss: 0.2654 - accuracy: 0.9056\n",
      "Epoch 13/50\n",
      "10404/10404 - 7s - loss: 0.2642 - accuracy: 0.9054\n",
      "Epoch 14/50\n",
      "10404/10404 - 7s - loss: 0.2635 - accuracy: 0.9057\n",
      "Epoch 15/50\n",
      "10404/10404 - 7s - loss: 0.2630 - accuracy: 0.9054\n",
      "Epoch 16/50\n",
      "10404/10404 - 7s - loss: 0.2627 - accuracy: 0.9055\n",
      "Epoch 17/50\n",
      "10404/10404 - 7s - loss: 0.2619 - accuracy: 0.9053\n",
      "Epoch 18/50\n",
      "10404/10404 - 7s - loss: 0.2620 - accuracy: 0.9055\n",
      "Epoch 19/50\n",
      "10404/10404 - 7s - loss: 0.2616 - accuracy: 0.9055\n",
      "Epoch 20/50\n",
      "10404/10404 - 7s - loss: 0.2612 - accuracy: 0.9059\n",
      "Epoch 21/50\n",
      "10404/10404 - 7s - loss: 0.2610 - accuracy: 0.9058\n",
      "Epoch 22/50\n",
      "10404/10404 - 7s - loss: 0.2609 - accuracy: 0.9051\n",
      "Epoch 23/50\n",
      "10404/10404 - 7s - loss: 0.2607 - accuracy: 0.9056\n",
      "Epoch 24/50\n",
      "10404/10404 - 7s - loss: 0.2601 - accuracy: 0.9062\n",
      "Epoch 25/50\n",
      "10404/10404 - 7s - loss: 0.2595 - accuracy: 0.9058\n",
      "Epoch 26/50\n",
      "10404/10404 - 7s - loss: 0.2593 - accuracy: 0.9058\n",
      "Epoch 27/50\n",
      "10404/10404 - 7s - loss: 0.2591 - accuracy: 0.9063\n",
      "Epoch 28/50\n",
      "10404/10404 - 7s - loss: 0.2586 - accuracy: 0.9062\n",
      "Epoch 29/50\n",
      "10404/10404 - 7s - loss: 0.2591 - accuracy: 0.9057\n",
      "Epoch 30/50\n",
      "10404/10404 - 7s - loss: 0.2582 - accuracy: 0.9059\n",
      "Epoch 31/50\n",
      "10404/10404 - 7s - loss: 0.2581 - accuracy: 0.9059\n",
      "Epoch 32/50\n",
      "10404/10404 - 7s - loss: 0.2578 - accuracy: 0.9063\n",
      "Epoch 33/50\n",
      "10404/10404 - 7s - loss: 0.2579 - accuracy: 0.9063\n",
      "Epoch 34/50\n",
      "10404/10404 - 7s - loss: 0.2575 - accuracy: 0.9059\n",
      "Epoch 35/50\n",
      "10404/10404 - 7s - loss: 0.2575 - accuracy: 0.9060\n",
      "Epoch 36/50\n",
      "10404/10404 - 7s - loss: 0.2570 - accuracy: 0.9066\n",
      "Epoch 37/50\n",
      "10404/10404 - 8s - loss: 0.2569 - accuracy: 0.9062\n",
      "Epoch 38/50\n",
      "10404/10404 - 7s - loss: 0.2568 - accuracy: 0.9059\n",
      "Epoch 39/50\n",
      "10404/10404 - 7s - loss: 0.2569 - accuracy: 0.9061\n",
      "Epoch 40/50\n",
      "10404/10404 - 7s - loss: 0.2564 - accuracy: 0.9063\n",
      "Epoch 41/50\n",
      "10404/10404 - 7s - loss: 0.2560 - accuracy: 0.9063\n",
      "Epoch 42/50\n",
      "10404/10404 - 7s - loss: 0.2559 - accuracy: 0.9066\n",
      "Epoch 43/50\n",
      "10404/10404 - 7s - loss: 0.2561 - accuracy: 0.9065\n",
      "Epoch 44/50\n",
      "10404/10404 - 7s - loss: 0.2566 - accuracy: 0.9066\n",
      "Epoch 45/50\n",
      "10404/10404 - 7s - loss: 0.2559 - accuracy: 0.9061\n",
      "Epoch 46/50\n",
      "10404/10404 - 7s - loss: 0.2560 - accuracy: 0.9070\n",
      "Epoch 47/50\n",
      "10404/10404 - 7s - loss: 0.2557 - accuracy: 0.9065\n",
      "Epoch 48/50\n",
      "10404/10404 - 7s - loss: 0.2547 - accuracy: 0.9068\n",
      "Epoch 49/50\n",
      "10404/10404 - 7s - loss: 0.2545 - accuracy: 0.9069\n",
      "Epoch 50/50\n",
      "10404/10404 - 7s - loss: 0.2549 - accuracy: 0.9072\n"
     ]
    },
    {
     "data": {
      "text/plain": [
       "<keras.callbacks.History at 0x2507d2e1f40>"
      ]
     },
     "execution_count": 36,
     "metadata": {},
     "output_type": "execute_result"
    }
   ],
   "source": [
    "model.fit(x_train, y_train, epochs = 50, shuffle = True, batch_size=10, verbose=2)"
   ]
  },
  {
   "cell_type": "code",
   "execution_count": 37,
   "id": "c8182b78",
   "metadata": {},
   "outputs": [
    {
     "name": "stdout",
     "output_type": "stream",
     "text": [
      "1394/1394 - 1s - loss: 0.2578 - accuracy: 0.9060\n",
      "\n",
      "Test accuracy: 90.60306549072266\n"
     ]
    }
   ],
   "source": [
    "test_loss, test_acc = model.evaluate(x_test,  y_test, verbose=2)\n",
    "\n",
    "print('\\nTest accuracy:', test_acc * 100)"
   ]
  },
  {
   "cell_type": "code",
   "execution_count": 17,
   "id": "52e153ca",
   "metadata": {},
   "outputs": [],
   "source": [
    "probability_model = tf.keras.Sequential([model, tf.keras.layers.Softmax()])"
   ]
  },
  {
   "cell_type": "code",
   "execution_count": 107,
   "id": "05f0ec6a",
   "metadata": {},
   "outputs": [],
   "source": [
    "predictions = probability_model.predict(x_test)"
   ]
  },
  {
   "cell_type": "code",
   "execution_count": 108,
   "id": "ee23437d",
   "metadata": {},
   "outputs": [
    {
     "data": {
      "text/plain": [
       "array([0.15248616, 0.15694872, 0.15295918, 0.1510499 , 0.3865561 ],\n",
       "      dtype=float32)"
      ]
     },
     "execution_count": 108,
     "metadata": {},
     "output_type": "execute_result"
    }
   ],
   "source": [
    "predictions[0]"
   ]
  },
  {
   "cell_type": "code",
   "execution_count": 116,
   "id": "794c8121",
   "metadata": {},
   "outputs": [],
   "source": [
    "prediction = np.argmax(predictions[0])"
   ]
  },
  {
   "cell_type": "code",
   "execution_count": 67,
   "id": "9b98daad",
   "metadata": {},
   "outputs": [
    {
     "data": {
      "text/plain": [
       "array([0.2368927, 6.7908325, 7.858032 ])"
      ]
     },
     "execution_count": 67,
     "metadata": {},
     "output_type": "execute_result"
    }
   ],
   "source": [
    "x_test[0]"
   ]
  },
  {
   "cell_type": "code",
   "execution_count": 84,
   "id": "89ed08fa",
   "metadata": {},
   "outputs": [],
   "source": [
    "data_list = pd.DataFrame(data)\n",
    "data_list.to_csv('test.csv', index=None, header=None)"
   ]
  },
  {
   "cell_type": "code",
   "execution_count": 12,
   "id": "30078b91",
   "metadata": {},
   "outputs": [
    {
     "name": "stdout",
     "output_type": "stream",
     "text": [
      "Fast Walking\n"
     ]
    }
   ],
   "source": [
    "from sklearn.preprocessing import LabelEncoder, OneHotEncoder\n",
    "\n",
    "inv = ohe.inverse_transform(y_ohe).ravel()\n",
    "labels = np.unique(inv)\n",
    "print(labels[0])"
   ]
  },
  {
   "cell_type": "code",
   "execution_count": 38,
   "id": "27cec161",
   "metadata": {},
   "outputs": [
    {
     "name": "stdout",
     "output_type": "stream",
     "text": [
      "INFO:tensorflow:Assets written to: ml_model\\assets\n"
     ]
    }
   ],
   "source": [
    "model.save('ml_model')"
   ]
  },
  {
   "cell_type": "code",
   "execution_count": null,
   "id": "2a176c15",
   "metadata": {},
   "outputs": [],
   "source": []
  }
 ],
 "metadata": {
  "kernelspec": {
   "display_name": "Python 3 (ipykernel)",
   "language": "python",
   "name": "python3"
  },
  "language_info": {
   "codemirror_mode": {
    "name": "ipython",
    "version": 3
   },
   "file_extension": ".py",
   "mimetype": "text/x-python",
   "name": "python",
   "nbconvert_exporter": "python",
   "pygments_lexer": "ipython3",
   "version": "3.9.0"
  }
 },
 "nbformat": 4,
 "nbformat_minor": 5
}
